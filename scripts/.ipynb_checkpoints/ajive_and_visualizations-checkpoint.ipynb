{
 "cells": [
  {
   "cell_type": "code",
   "execution_count": 1,
   "metadata": {},
   "outputs": [],
   "source": [
    "# TODO: get rid of these\n",
    "image_rep = 'bill'\n",
    "\n",
    "compute_grad = True\n",
    "\n",
    "temp = False"
   ]
  },
  {
   "cell_type": "code",
   "execution_count": 6,
   "metadata": {},
   "outputs": [],
   "source": [
    "import pandas as pd\n",
    "import os\n",
    "import numpy as np\n",
    "from time import time\n",
    "from itertools import chain\n",
    "from sklearn.preprocessing import StandardScaler\n",
    "import datetime\n",
    "from sklearn.externals.joblib import dump, load\n",
    "from skimage.io import imread\n",
    "\n",
    "from torchvision.transforms import Normalize, ToTensor, Compose\n",
    "\n",
    "from seaborn import heatmap\n",
    "import matplotlib.pyplot as plt\n",
    "# %matplotlib inline\n",
    "\n",
    "\n",
    "from jive.PCA import PCA\n",
    "from jive.AJIVE import AJIVE\n",
    "from jive.viz.viz import plot_loading\n",
    "\n",
    "from iain_bcia.VizPaths import VizPaths\n",
    "from iain_bcia.patches.CBCSPatches import CBCSPatches\n",
    "from iain_bcia.pipeline.cbcs_data_loading import load_genes, load_clinical_data,\\\n",
    "    get_cbcsid_group, add_er_her2_interactions, get_gene_statistics, load_pam50_subtype_genes,\\\n",
    "    load_pam50_genelist\n",
    "from iain_bcia.ExperParams import CnnModelParams\n",
    "from iain_bcia.patches.utils import get_subj_background\n",
    "\n",
    "from iain_bcia.pipeline.image_feature_processing import cores_to_subj_mean_feats\n",
    "from iain_bcia.utils import get_mismatches, retain_pandas, angles_between_cols, get_and_make_dir\n",
    "from iain_bcia.TwoBlockDimRed import CCA\n",
    "from iain_bcia.pipeline.process_pam50 import process_pam50\n",
    "\n",
    "from iain_bcia.cnn_grad_viz.heatmaps import overlay_alpha_mask\n",
    "from iain_bcia.cnn_grad_viz.viz import  mpl_noaxis\n",
    "from iain_bcia.viz.jitter import jitter_hist\n",
    "from iain_bcia.temp_jive import pca_var_expl_rank\n",
    "\n",
    "from iain_bcia.image_genetics.load_data import load_data\n",
    "\n",
    "\n",
    "gene_set = 'pam50'\n",
    "\n",
    "vp = VizPaths()\n",
    "mpl_noaxis(labels=True)"
   ]
  },
  {
   "cell_type": "code",
   "execution_count": null,
   "metadata": {},
   "outputs": [],
   "source": []
  },
  {
   "cell_type": "code",
   "execution_count": null,
   "metadata": {},
   "outputs": [],
   "source": [
    "# load pre-computed data e.g. patch features\n",
    "data = load_data(gene_set='pam50', patches_name=image_rep, load_patch_feats=True)\n",
    "\n",
    "subj_img_feats = data['subj_img_feats']\n",
    "core_centroids = data['img_centroids']\n",
    "patch_feats = data['patch_feats']\n",
    "cnn_params = data['cnn_params']\n",
    "patch_dataset = data['patch_dataset']\n",
    "image_feats_processor = data['image_feats_processor']\n",
    "\n",
    "genes = data['genes']\n",
    "gene_stats = data['gene_stats']\n",
    "\n",
    "clinical_data = data['clinical_data']"
   ]
  },
  {
   "cell_type": "markdown",
   "metadata": {},
   "source": [
    "# config "
   ]
  },
  {
   "cell_type": "code",
   "execution_count": 2,
   "metadata": {},
   "outputs": [
    {
     "data": {
      "text/plain": [
       "<function os.makedirs(name, mode=511, exist_ok=False)>"
      ]
     },
     "execution_count": 2,
     "metadata": {},
     "output_type": "execute_result"
    }
   ],
   "source": [
    "import os\n",
    "os.makedirs"
   ]
  },
  {
   "cell_type": "code",
   "execution_count": 8,
   "metadata": {},
   "outputs": [],
   "source": [
    "##############################\n",
    "# patch visualization config #\n",
    "##############################\n",
    "\n",
    "n_extreme_subjs = 15\n",
    "n_patches_per_subj = 20\n",
    "n_extreme_patches = 50\n",
    "\n",
    "\n",
    "\n",
    "# gradient visualization\n",
    "grad_kws = {'grad_type': ['vanilla', 'vanilla_smooth'],\n",
    "\n",
    "            'n_samples_smooth': 20,\n",
    "            'sigma_mult': 1.5,\n",
    "    \n",
    "            'n_samples_load': 50,\n",
    "            'skip_rand_load': True,\n",
    "\n",
    "            'compress': 1,\n",
    "            'skip_jac': True, 'skip_jac_svd': True}\n"
   ]
  },
  {
   "cell_type": "code",
   "execution_count": 9,
   "metadata": {},
   "outputs": [],
   "source": [
    "#############################\n",
    "# config for loadings plots #\n",
    "#############################\n",
    "inches = 5\n",
    "max_n_indiv_comps = 10\n",
    "\n",
    "# scores vs metadata tests\n",
    "smd_tests_kws = {'alpha': 0.05,\n",
    "                 'multi_test': 'fdr_bh',\n",
    "                 'ovr': False,\n",
    "                 'cat_test': 'mw',\n",
    "                 'ovo_summary': 'list',\n",
    "                 'corr': 'pearson',\n",
    "                 'inches': 10}\n"
   ]
  },
  {
   "cell_type": "code",
   "execution_count": 10,
   "metadata": {},
   "outputs": [],
   "source": [
    "# if mini:\n",
    "#     temp = True\n",
    "    \n",
    "#     R = 10\n",
    "\n",
    "#     n_extreme_subjs = 3\n",
    "#     n_patches_per_subj = 5\n",
    "#     n_extreme_patches = 5\n",
    "    \n",
    "#     max_n_indiv_comps = 2"
   ]
  },
  {
   "cell_type": "code",
   "execution_count": 12,
   "metadata": {},
   "outputs": [],
   "source": [
    "\n",
    "\n",
    "init_signal_ranks = {'images': 81,\n",
    "                     'genes':31}"
   ]
  },
  {
   "cell_type": "markdown",
   "metadata": {},
   "source": [
    "# AJIVE\n"
   ]
  },
  {
   "cell_type": "code",
   "execution_count": null,
   "metadata": {},
   "outputs": [],
   "source": [
    "R = 1000 # number of random direction/wedin bound samples\n",
    "\n",
    "# initial signal ranks determined from PCA scree plots\n",
    "image_signal_rank = 81\n",
    "gene_signal_ranks = 30\n",
    "\n",
    "# run AJIVE\n",
    "ajive = AJIVE(init_signal_ranks=init_signal_ranks, zero_index_names=False, n_jobs=-1, store_full=False,\n",
    "              n_wedin_samples=R, n_randdir_samples=R)\n",
    "ajive = ajive.fit({'images': subj_img_feats, 'genes': genes})"
   ]
  },
  {
   "cell_type": "code",
   "execution_count": null,
   "metadata": {},
   "outputs": [],
   "source": [
    "# show AJIVE diagnostic\n",
    "plt.figure(figsize=[10, 10])\n",
    "ajive.plot_joint_diagnostic()"
   ]
  },
  {
   "cell_type": "markdown",
   "metadata": {},
   "source": [
    "# make results visuzalizer"
   ]
  },
  {
   "cell_type": "code",
   "execution_count": 16,
   "metadata": {},
   "outputs": [],
   "source": [
    "from torchvision.transforms import ToTensor\n",
    "from shutil import copyfile\n",
    "from imageio import imsave\n",
    "\n",
    "from iain_bcia.image_genetics.core_patch_viz import plot_image_top_patches\n",
    "\n",
    "from iain_bcia.presentation.extremes import get_most_extreme\n",
    "\n",
    "from iain_bcia.pipeline.nn_processing import CenterScaleMod\n",
    "from iain_bcia.nn_utils import append_to_sequential\n",
    "\n",
    "from iain_bcia.viz.scores_vs import plot_scores_vs\n",
    "from iain_bcia.cnn_grad_viz.viz import show_grid, add_colorbar, mpl_noaxis\n",
    "\n",
    "from iain_bcia.image_genetics.viz_component import viz_component\n",
    "from iain_bcia.image_genetics.utils import plot_ajive_results, savefig, plot_cross_catetory_summaries\n",
    "from iain_bcia.image_genetics.genes_viz import plot_genetic_load_vs_gene_list"
   ]
  },
  {
   "cell_type": "code",
   "execution_count": 17,
   "metadata": {},
   "outputs": [],
   "source": [
    "# set loadings plots dimensions\n",
    "n_genes = genes.shape[1]\n",
    "height_scale = n_genes // 25\n",
    "load_figsize = (inches, height_scale * inches)"
   ]
  },
  {
   "cell_type": "code",
   "execution_count": 18,
   "metadata": {},
   "outputs": [],
   "source": [
    "# Bureaucracy\n",
    "avail_cbcsids = subj_img_feats.index\n",
    "\n",
    "avail_cores = [i for i in core_centroids.index\n",
    "               if get_cbcsid_group(i)[0] in avail_cbcsids]\n",
    "\n",
    "if temp:\n",
    "    tipity_top_dir = vp.temp_dir\n",
    "else:\n",
    "    tipity_top_dir = vp.big_results_dir\n",
    "top_dir = get_and_make_dir(tipity_top_dir, 'joint_images_genetics', gene_set, image_rep)\n",
    "ajive_dir = get_and_make_dir(top_dir, 'ajive')\n",
    "common_dir = get_and_make_dir(top_dir, 'common')\n",
    "image_indiv_dir = get_and_make_dir(top_dir, 'image_indiv')\n",
    "genetic_indiv_dir = get_and_make_dir(top_dir, 'genetic_indiv')\n",
    "log_dir = get_and_make_dir(top_dir, 'log')\n",
    "grad_data_dir = get_and_make_dir(top_dir, 'grad_data')"
   ]
  },
  {
   "cell_type": "code",
   "execution_count": 19,
   "metadata": {},
   "outputs": [],
   "source": [
    "# image patch transformer\n",
    "channel_avg = patch_dataset.pixel_stats['avg'] / 255\n",
    "channel_std = np.sqrt(patch_dataset.pixel_stats['var']) / 255\n",
    "transforms = Compose([ToTensor(),\n",
    "                      Normalize(mean=channel_avg, std=channel_std)])\n",
    "\n",
    "# feature extraction model for gradient visualizations\n",
    "feats_model = cnn_params.load_model()\n",
    "feats_processor = CenterScaleMod.from_sklearn(image_feats_processor).float()\n",
    "if feats_processor is not None:\n",
    "    feats_model = append_to_sequential(feats_model, feats_processor)\n",
    "feats_model = feats_model.eval().float()"
   ]
  },
  {
   "cell_type": "code",
   "execution_count": null,
   "metadata": {},
   "outputs": [],
   "source": [
    "# plot category summaries\n",
    "# plot_cross_catetory_summaries(log_dir, categories) # TODO: uncomment, this just takes a while\n",
    "\n",
    "# gene summaries\n",
    "plt.figure(figsize=(load_figsize[0] * 3 * 1.3, load_figsize[1]))\n",
    "plt.subplot(1, 3, 1)\n",
    "plot_loading(gene_stats['mean'])\n",
    "\n",
    "plt.subplot(1, 3, 2)\n",
    "plot_loading(gene_stats['std'])\n",
    "\n",
    "plt.subplot(1, 3, 3)\n",
    "plot_loading(gene_stats['range'])\n",
    "savefig(os.path.join(log_dir, 'gene_stats.png'))\n",
    "\n",
    "# clinical variable summaries\n",
    "plt.figure(figsize=[1.2* clinical_data.shape[1] * 8, 8])\n",
    "plot_vars(clinical_data, inches=None)\n",
    "savefig(os.path.join(log_dir, 'clinical_variables_summary.png'))"
   ]
  },
  {
   "cell_type": "code",
   "execution_count": null,
   "metadata": {},
   "outputs": [],
   "source": [
    "# plot AJIVE results\n",
    "plot_ajive_results(ajive,\n",
    "                   pcas={'images':pca_image, 'genes':pca_genes},\n",
    "                   save_dir=ajive_dir)\n",
    "\n",
    "dump(ajive, os.path.join(ajive_dir, 'ajive_results'))"
   ]
  },
  {
   "cell_type": "markdown",
   "metadata": {},
   "source": [
    "# common "
   ]
  },
  {
   "cell_type": "code",
   "execution_count": null,
   "metadata": {
    "scrolled": false
   },
   "outputs": [],
   "source": [
    "# genetic loadings plots\n",
    "load_dir = get_and_make_dir(common_dir, 'loadings')\n",
    "for r in range(ajive.common.rank):\n",
    "    plt.figure(figsize=load_figsize)\n",
    "    ajive.blocks['genes'].plot_common_loading(r)\n",
    "    plt.title('common component {}'.format(r + 1))\n",
    "    savefig(os.path.join(load_dir, 'loadings_comp_{}.png'.format(r + 1)))\n",
    "    \n",
    "    plot_genetic_load_vs_gene_list(ajive.blocks['genes'].common_loadings().iloc[:, r],\n",
    "                                   load_figsize=load_figsize)\n",
    "    savefig(os.path.join(load_dir, 'loadings_comp_{}_geneset.png'.format(r + 1)))\n",
    "\n",
    "# angles between loadings\n",
    "angles = angles_between_cols(ajive.blocks['genes'].common_loadings_.values)\n",
    "heatmap(angles, annot=True, fmt=\"1.1f\")\n",
    "plt.title('genetics common loadings angles')\n",
    "savefig(os.path.join(common_dir, 'loadings_angles.png' ))\n",
    "\n",
    "# scores vs. classes\n",
    "plot_scores_vs(ajive.common.scores(norm=True), clinical_data, **smd_tests_kws)\n",
    "savefig(os.path.join(common_dir, 'cns_vs_clinical_data.png'))"
   ]
  },
  {
   "cell_type": "code",
   "execution_count": null,
   "metadata": {
    "scrolled": false
   },
   "outputs": [],
   "source": [
    "signal_kind = 'common'\n",
    "\n",
    "for comp in range(ajive.common.rank):\n",
    "\n",
    "    comp_name = 'comp_{}'.format(comp + 1)\n",
    "    print(comp_name)\n",
    "    \n",
    "    subj_scores = ajive.common.scores(norm=True).iloc[:, comp]\n",
    "    loading_vec = ajive.blocks['images'].common_loadings().iloc[:, comp]\n",
    "\n",
    "    patch_scores = retain_pandas(patch_feats,\n",
    "                                 image_feats_processor.transform).dot(loading_vec)\n",
    "\n",
    "    core_scores = retain_pandas(core_centroids,\n",
    "                                image_feats_processor.transform).dot(loading_vec)\n",
    "\n",
    "    viz_component(subj_scores=subj_scores,\n",
    "                  core_scores=core_scores,\n",
    "                  patch_scores=patch_scores,\n",
    "                  patch_dataset=patch_dataset,\n",
    "                  feats_model=feats_model,\n",
    "                  loading_vec=loading_vec,\n",
    "                  transforms=transforms,\n",
    "                  grad_kws=grad_kws,\n",
    "                  comp_name=comp_name,\n",
    "                  top_dir=top_dir,\n",
    "                  grad_data_dir=grad_data_dir,\n",
    "                  signal_kind=signal_kind,\n",
    "                  avail_cores=avail_cores,\n",
    "                  compute_grad=compute_grad,\n",
    "                  n_extreme_subjs=n_extreme_subjs,\n",
    "                  n_extreme_patches=n_extreme_patches,\n",
    "                  n_patches_per_subj=n_patches_per_subj)\n"
   ]
  },
  {
   "cell_type": "markdown",
   "metadata": {},
   "source": [
    "# image individual"
   ]
  },
  {
   "cell_type": "code",
   "execution_count": null,
   "metadata": {},
   "outputs": [],
   "source": [
    "n_indiv_comps = min(max_n_indiv_comps, ajive.blocks['images'].individual.rank)\n",
    "\n",
    "ajive.blocks['images'].individual.plot_scree()\n",
    "plt.title('image individual')\n",
    "savefig(os.path.join(image_indiv_dir, 'indiv_scree.png'))\n",
    "\n",
    "\n",
    "plot_scores_vs(scores=ajive.blocks['images'].individual.scores(norm=True).iloc[:, 0:n_indiv_comps],\n",
    "               metadata=clinical_data, **smd_tests_kws)\n",
    "savefig(os.path.join(image_indiv_dir, 'image_indiv_clinical_data.png'))"
   ]
  },
  {
   "cell_type": "code",
   "execution_count": null,
   "metadata": {},
   "outputs": [],
   "source": [
    "signal_kind = 'image_indiv'\n",
    "\n",
    "for comp in range(n_indiv_comps):\n",
    "    comp_name = 'comp_{}'.format(comp + 1)\n",
    "    print(comp_name)\n",
    "\n",
    "    \n",
    "    subj_scores = ajive.blocks['images'].individual.scores(norm=True).iloc[:, comp]\n",
    "    loading_vec = ajive.blocks['images'].individual.loadings().iloc[:, comp]\n",
    "\n",
    "    patch_scores = retain_pandas(patch_feats,\n",
    "                                 image_feats_processor.transform).dot(loading_vec)\n",
    "\n",
    "    core_scores = retain_pandas(core_centroids,\n",
    "                                image_feats_processor.transform).dot(loading_vec)\n",
    "\n",
    "    viz_component(subj_scores=subj_scores,\n",
    "                  core_scores=core_scores,\n",
    "                  patch_scores=patch_scores,\n",
    "                  patch_dataset=patch_dataset,\n",
    "                  feats_model=feats_model,\n",
    "                  loading_vec=loading_vec,\n",
    "                  transforms=transforms,\n",
    "                  grad_kws=grad_kws,\n",
    "                  comp_name=comp_name,\n",
    "                  top_dir=top_dir,\n",
    "                  grad_data_dir=grad_data_dir,\n",
    "                  signal_kind=signal_kind,\n",
    "                  avail_cores=avail_cores,\n",
    "                  compute_grad=compute_grad,\n",
    "                  n_extreme_subjs=n_extreme_subjs,\n",
    "                  n_extreme_patches=n_extreme_patches,\n",
    "                  n_patches_per_subj=n_patches_per_subj)\n"
   ]
  },
  {
   "cell_type": "markdown",
   "metadata": {},
   "source": [
    "# genetics individual"
   ]
  },
  {
   "cell_type": "code",
   "execution_count": null,
   "metadata": {},
   "outputs": [],
   "source": [
    "n_indiv_comps = min(max_n_indiv_comps, ajive.blocks['genes'].individual.rank)\n",
    "\n",
    "# scree plot\n",
    "ajive.blocks['genes'].individual.plot_scree()\n",
    "plt.title('genetic individual')\n",
    "savefig(os.path.join(genetic_indiv_dir, 'indiv_scree.png'))\n",
    "\n",
    "# plot loadings\n",
    "load_dir = get_and_make_dir(genetic_indiv_dir, 'loadings')\n",
    "for r in range(n_indiv_comps):\n",
    "    plt.figure(figsize=load_figsize)\n",
    "    ajive.blocks['genes'].individual.plot_loading(r)\n",
    "    plt.title('genetic individual component {}'.format(r + 1))\n",
    "    savefig(os.path.join(load_dir, 'loadings_comp_{}.png'.format(r + 1)))\n",
    "    \n",
    "    plot_genetic_load_vs_gene_list(ajive.blocks['genes'].individual.loadings().iloc[:, r],\n",
    "                                   load_figsize=load_figsize)\n",
    "    savefig(os.path.join(load_dir, 'loadings_comp_{}_geneset.png'.format(r + 1)))\n",
    "    \n",
    "# cores vs. known classes\n",
    "plot_scores_vs(scores=ajive.blocks['genes'].individual.scores(norm=True).iloc[:, 0:n_indiv_comps],\n",
    "               metadata=clinical_data, **smd_tests_kws)\n",
    "savefig(os.path.join(genetic_indiv_dir, 'genes_indiv_clinical_data.png'))\n",
    "\n"
   ]
  },
  {
   "cell_type": "markdown",
   "metadata": {},
   "source": [
    "# playground"
   ]
  },
  {
   "cell_type": "code",
   "execution_count": null,
   "metadata": {},
   "outputs": [],
   "source": []
  }
 ],
 "metadata": {
  "kernelspec": {
   "display_name": "Python 3",
   "language": "python",
   "name": "python3"
  },
  "language_info": {
   "codemirror_mode": {
    "name": "ipython",
    "version": 3
   },
   "file_extension": ".py",
   "mimetype": "text/x-python",
   "name": "python",
   "nbconvert_exporter": "python",
   "pygments_lexer": "ipython3",
   "version": "3.7.2"
  }
 },
 "nbformat": 4,
 "nbformat_minor": 2
}
