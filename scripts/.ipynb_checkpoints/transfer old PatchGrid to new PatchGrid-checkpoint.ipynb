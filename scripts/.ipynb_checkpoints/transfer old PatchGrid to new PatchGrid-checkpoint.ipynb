{
 "cells": [
  {
   "cell_type": "code",
   "execution_count": 24,
   "metadata": {},
   "outputs": [],
   "source": [
    "from iain_bcia.VizPaths import VizPaths\n",
    "from iain_bcia.patches.CBCSPatches import CBCSPatches\n",
    "import os\n",
    "\n",
    "from cbcs_joint.patches.CBCSPatchGrid import CBCSPatchGrid\n",
    "from cbcs_joint.Paths import Paths"
   ]
  },
  {
   "cell_type": "code",
   "execution_count": 7,
   "metadata": {},
   "outputs": [],
   "source": [
    "name = 'bill'\n",
    "save_dir = os.path.join(VizPaths().patches_dir, name)\n",
    "\n",
    "old_patch_dataset = CBCSPatches.load(os.path.join(save_dir, 'patch_dataset'))"
   ]
  },
  {
   "cell_type": "code",
   "execution_count": 19,
   "metadata": {},
   "outputs": [],
   "source": [
    "patch_kws = {'threshold_algo': 'triangle_otsu',\n",
    "             'max_prop_background': .9,\n",
    "             'patch_size': 200,\n",
    "             'pad_image': 'div_200'}\n",
    "\n",
    "new_patch_grid = CBCSPatchGrid(**patch_kws)\n",
    "\n",
    "new_patch_grid.top_lefts_ = old_patch_dataset.top_lefts\n",
    "new_patch_grid.image_shapes_ = old_patch_dataset.image_shapes\n",
    "new_patch_grid.background_thresholds_ = old_patch_dataset.background_thresholds\n",
    "new_patch_grid.background_props_ = old_patch_dataset.background_props\n",
    "new_patch_grid.background_pixel_ = old_patch_dataset.background_pixel\n",
    "new_patch_grid.pixel_stats_ = old_patch_dataset.pixel_stats\n",
    "        \n",
    "new_patch_grid.save(os.path.join(Paths().patches_dir,\n",
    "                                'patch_dataset'))"
   ]
  },
  {
   "cell_type": "code",
   "execution_count": null,
   "metadata": {},
   "outputs": [],
   "source": []
  }
 ],
 "metadata": {
  "kernelspec": {
   "display_name": "Python 3",
   "language": "python",
   "name": "python3"
  },
  "language_info": {
   "codemirror_mode": {
    "name": "ipython",
    "version": 3
   },
   "file_extension": ".py",
   "mimetype": "text/x-python",
   "name": "python",
   "nbconvert_exporter": "python",
   "pygments_lexer": "ipython3",
   "version": "3.7.2"
  }
 },
 "nbformat": 4,
 "nbformat_minor": 2
}
